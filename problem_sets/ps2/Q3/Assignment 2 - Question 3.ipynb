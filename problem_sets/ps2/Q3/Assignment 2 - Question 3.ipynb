{
 "cells": [
  {
   "cell_type": "markdown",
   "metadata": {},
   "source": [
    "# Assignment 2 - Question 3\n",
    "### Heather Chen\n",
    "#### 3. Streaming Stock Data"
   ]
  },
  {
   "cell_type": "code",
   "execution_count": 1,
   "metadata": {},
   "outputs": [],
   "source": [
    "import boto3\n",
    "import time\n",
    "\n",
    "session = boto3.Session()\n",
    "\n",
    "kinesis = session.client('kinesis')\n",
    "ec2 = session.resource('ec2')\n",
    "ec2_client = session.client('ec2')"
   ]
  },
  {
   "cell_type": "code",
   "execution_count": 2,
   "metadata": {},
   "outputs": [],
   "source": [
    "response = kinesis.create_stream(StreamName = 'stock_stream',\n",
    "                                 ShardCount = 1\n",
    "                                )\n",
    "\n",
    "# Is the stream active and ready to be written to/read from? Wait until it exists before moving on:\n",
    "waiter = kinesis.get_waiter('stream_exists')\n",
    "waiter.wait(StreamName='stock_stream')"
   ]
  },
  {
   "cell_type": "code",
   "execution_count": 3,
   "metadata": {},
   "outputs": [],
   "source": [
    "instances = ec2.create_instances(ImageId='ami-0915e09cc7ceee3ab',\n",
    "                                 MinCount=1,\n",
    "                                 MaxCount=2,\n",
    "                                 InstanceType='t2.micro',\n",
    "                                 KeyName='Heather_Chen',\n",
    "                                 SecurityGroupIds=['sg-0766f5a606dc4c8c5'],\n",
    "                                 SecurityGroups=['Lab5'],\n",
    "                                 IamInstanceProfile=\n",
    "                                     {'Name': 'EMR_EC2_DefaultRole'},\n",
    "                                )\n",
    "\n",
    "# Wait until EC2 instances are running before moving on\n",
    "waiter = ec2_client.get_waiter('instance_running')\n",
    "waiter.wait(InstanceIds=[instance.id for instance in instances])"
   ]
  },
  {
   "cell_type": "code",
   "execution_count": 4,
   "metadata": {},
   "outputs": [],
   "source": [
    "#Create a topic to send alerts\n",
    "sns = boto3.client('sns', region_name='us-east-1')\n",
    "response = sns.create_topic(Name='stock_price_alerts')\n",
    "topic_arn = response['TopicArn']\n",
    "\n",
    "#Subscribe my email to that response\n",
    "response = sns.subscribe(TopicArn = topic_arn, Protocol='email', Endpoint='chichen@uchicago.edu')"
   ]
  },
  {
   "cell_type": "code",
   "execution_count": 5,
   "metadata": {},
   "outputs": [
    {
     "name": "stdout",
     "output_type": "stream",
     "text": [
      "Overwriting producer.py\n"
     ]
    }
   ],
   "source": [
    "%%file producer.py\n",
    "\n",
    "import boto3\n",
    "import random\n",
    "import datetime\n",
    "import json\n",
    "\n",
    "kinesis = boto3.client('kinesis', region_name='us-east-1')\n",
    "\n",
    "# Continously write stock data into Kinesis stream\n",
    "while True:\n",
    "    now = datetime.datetime.now() \n",
    "    str_now = now.isoformat() \n",
    "    price = random.random() * 100 \n",
    "    data = {'event_time': str_now,\n",
    "            'ticker': 'AAPL',\n",
    "            'price': round(price, 2)\n",
    "            }\n",
    "    kinesis.put_record(StreamName = \"stock_stream\",\n",
    "                       Data = json.dumps(data),\n",
    "                       PartitionKey = \"partitionkey\"\n",
    "                      )\n",
    "    #print(\"data in\")"
   ]
  },
  {
   "cell_type": "code",
   "execution_count": 6,
   "metadata": {},
   "outputs": [
    {
     "name": "stdout",
     "output_type": "stream",
     "text": [
      "Overwriting consumer.py\n"
     ]
    }
   ],
   "source": [
    "%%file consumer.py\n",
    "\n",
    "import boto3\n",
    "import time\n",
    "import json\n",
    "\n",
    "kinesis = boto3.client('kinesis', region_name='us-east-1')\n",
    "ec2 = boto3.client('ec2', region_name='us-east-1')\n",
    "\n",
    "shard_it = kinesis.get_shard_iterator(StreamName = \"stock_stream\",\n",
    "                                     ShardId = 'shardId-000000000000',\n",
    "                                     ShardIteratorType = 'LATEST'\n",
    "                                     )[\"ShardIterator\"]\n",
    "\n",
    "i = 0\n",
    "s = 0\n",
    "    \n",
    "while True:\n",
    "    out = kinesis.get_records(ShardIterator = shard_it, Limit = 1)\n",
    "    for o in out['Records']:\n",
    "        jdat = json.loads(o['Data'])\n",
    "        price = jdat['price']\n",
    "        event_time = jdat['event_time']\n",
    "        i = i + 1\n",
    "    \n",
    "    if i != 0:\n",
    "        print(\"Current Stock Price: \", price)\n",
    "        print(\"Current Time:\", event_time)\n",
    "        print(\"\\n\")\n",
    "        \n",
    "        \n",
    "    shard_it = out['NextShardIterator']\n",
    "    time.sleep(0.2)"
   ]
  },
  {
   "cell_type": "code",
   "execution_count": 7,
   "metadata": {},
   "outputs": [],
   "source": [
    "instance_dns = [instance.public_dns_name \n",
    "                 for instance in ec2.instances.all() \n",
    "                 if instance.state['Name'] == 'running'\n",
    "               ]\n",
    "\n",
    "code = ['producer.py', 'consumer.py']"
   ]
  },
  {
   "cell_type": "code",
   "execution_count": 8,
   "metadata": {},
   "outputs": [
    {
     "name": "stdout",
     "output_type": "stream",
     "text": [
      "Producer Instance is Running producer.py\n",
      ".........................................\n",
      "Connect to Consumer Instance by running: ssh -i \"~/.ssh/Heather_Chen.pem\" ec2-user@ec2-54-234-46-117.compute-1.amazonaws.com\n"
     ]
    }
   ],
   "source": [
    "import paramiko\n",
    "from scp import SCPClient\n",
    "ssh_producer, ssh_consumer = paramiko.SSHClient(), paramiko.SSHClient()\n",
    "\n",
    "# Initialization of SSH tunnels takes a bit of time; otherwise get connection error on first attempt\n",
    "time.sleep(5)\n",
    "\n",
    "# Install boto3 on each EC2 instance and Copy our producer/consumer code onto producer/consumer EC2 instances\n",
    "instance = 0\n",
    "stdin, stdout, stderr = [[None, None] for i in range(3)]\n",
    "for ssh in [ssh_producer, ssh_consumer]:\n",
    "    ssh.set_missing_host_key_policy(paramiko.AutoAddPolicy())\n",
    "    ssh.connect(instance_dns[instance],\n",
    "                username = 'ec2-user',\n",
    "                key_filename='/Users/heatherchen/.ssh/Heather_Chen.pem')\n",
    "    \n",
    "    with SCPClient(ssh.get_transport()) as scp:\n",
    "        scp.put(code[instance])\n",
    "    \n",
    "    if instance == 0:\n",
    "        stdin[instance], stdout[instance], stderr[instance] = \\\n",
    "            ssh.exec_command(\"sudo pip install boto3 testdata\")\n",
    "    else:\n",
    "        stdin[instance], stdout[instance], stderr[instance] = \\\n",
    "            ssh.exec_command(\"sudo pip install boto3\")\n",
    "\n",
    "    instance += 1\n",
    "\n",
    "# Block until Producer has installed boto3 and testdata, then start running Producer script:\n",
    "producer_exit_status = stdout[0].channel.recv_exit_status() \n",
    "if producer_exit_status == 0:\n",
    "    ssh_producer.exec_command(\"python %s\" % code[0])\n",
    "    print(\"Producer Instance is Running producer.py\\n.........................................\")\n",
    "else:\n",
    "    print(\"Error\", producer_exit_status)\n",
    "\n",
    "# Close ssh and show connection instructions for manual access to Consumer Instance\n",
    "ssh_consumer.close; ssh_producer.close()\n",
    "\n",
    "print(\"Connect to Consumer Instance by running: ssh -i \\\"~/.ssh/Heather_Chen.pem\\\" ec2-user@%s\" % instance_dns[1])"
   ]
  },
  {
   "cell_type": "code",
   "execution_count": 9,
   "metadata": {},
   "outputs": [
    {
     "name": "stdout",
     "output_type": "stream",
     "text": [
      "Current Stock Price:  23.97\n",
      "Current Time: 2020-11-11T13:12:34.377281\n",
      "\n",
      "\n",
      "EC2 Instances Successfully Terminated\n",
      "Kinesis Stream Successfully Deleted\n",
      "SNS Topic Sucessfully Deleted\n"
     ]
    }
   ],
   "source": [
    "#Just run the same code on jupyter notebook to terminate\n",
    "import json\n",
    "\n",
    "kinesis = boto3.client('kinesis', region_name='us-east-1')\n",
    "ec2 = boto3.client('ec2', region_name='us-east-1')\n",
    "\n",
    "shard_it = kinesis.get_shard_iterator(StreamName = \"stock_stream\",\n",
    "                                     ShardId = 'shardId-000000000000',\n",
    "                                     ShardIteratorType = 'LATEST'\n",
    "                                     )[\"ShardIterator\"]\n",
    "\n",
    "i = 0\n",
    "s = 0\n",
    "    \n",
    "while True:\n",
    "    out = kinesis.get_records(ShardIterator = shard_it, Limit = 1)\n",
    "    for o in out['Records']:\n",
    "        jdat = json.loads(o['Data'])\n",
    "        price = jdat['price']\n",
    "        event_time = jdat['event_time']\n",
    "        i = i + 1\n",
    "    \n",
    "    if i != 0:\n",
    "        print(\"Current Stock Price: \", price)\n",
    "        print(\"Current Time:\", event_time)\n",
    "        print(\"\\n\")\n",
    "    \n",
    "    #If price>3, send email and terminate ec2 and kinesis\n",
    "    if price > 3:\n",
    "        sns = boto3.client('sns', region_name='us-east-1')\n",
    "        response = sns.list_topics()\n",
    "        topic_arn = response['Topics'][0]['TopicArn']\n",
    "        \n",
    "        message = 'The stock price is {str_price} at {str_time}!'.format(str_price = price, str_time = event_time)\n",
    "        response = sns.publish(TopicArn=topic_arn, Message = message, Subject = 'Stock Price Alert!')\n",
    "        \n",
    "        #And terminate the ec2 instance and kinesis stream\n",
    "        ec2_resource = boto3.resource('ec2', region_name='us-east-1')\n",
    "        instances = ec2_resource.instances.filter(Filters=[{'Name': 'instance-state-name', 'Values': ['running']}])\n",
    "        ec2.terminate_instances(InstanceIds=[instance.id for instance in instances])\n",
    "\n",
    "        waiter = ec2.get_waiter('instance_terminated')\n",
    "        waiter.wait(InstanceIds=[instance.id for instance in instances])\n",
    "        print(\"EC2 Instances Successfully Terminated\")\n",
    "\n",
    "        # Delete Kinesis Stream (if it currently exists):\n",
    "        try:\n",
    "            response = kinesis.delete_stream(StreamName='stock_stream')\n",
    "        except kinesis.exceptions.ResourceNotFoundException:\n",
    "            pass\n",
    "\n",
    "        # Confirm that Kinesis Stream was deleted:\n",
    "        waiter = kinesis.get_waiter('stream_not_exists')\n",
    "        waiter.wait(StreamName='stock_stream')\n",
    "        print(\"Kinesis Stream Successfully Deleted\")\n",
    "        \n",
    "        #Delete SNS topic\n",
    "        sns.delete_topic(TopicArn=topic_arn)\n",
    "        print(\"SNS Topic Sucessfully Deleted\")\n",
    "        \n",
    "        break\n",
    "        \n",
    "        \n",
    "    shard_it = out['NextShardIterator']\n",
    "    time.sleep(0.2)"
   ]
  }
 ],
 "metadata": {
  "kernelspec": {
   "display_name": "Python 3",
   "language": "python",
   "name": "python3"
  },
  "language_info": {
   "codemirror_mode": {
    "name": "ipython",
    "version": 3
   },
   "file_extension": ".py",
   "mimetype": "text/x-python",
   "name": "python",
   "nbconvert_exporter": "python",
   "pygments_lexer": "ipython3",
   "version": "3.7.4"
  }
 },
 "nbformat": 4,
 "nbformat_minor": 2
}
