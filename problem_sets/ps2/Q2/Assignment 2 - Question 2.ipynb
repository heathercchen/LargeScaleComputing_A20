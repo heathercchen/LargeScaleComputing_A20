{
 "cells": [
  {
   "cell_type": "markdown",
   "metadata": {},
   "source": [
    "# Assignment 2 - Question 2\n",
    "### Heather Chen\n",
    "#### 2. Identifying the Most-Used Words"
   ]
  },
  {
   "cell_type": "code",
   "execution_count": 13,
   "metadata": {},
   "outputs": [],
   "source": [
    "import dataset\n",
    "import pandas as pd"
   ]
  },
  {
   "cell_type": "code",
   "execution_count": 19,
   "metadata": {},
   "outputs": [],
   "source": [
    "#Write the books.db file to a tsv file so that we can employ the method in the lab\n",
    "books_df = pd.DataFrame(columns=['book_id', 'title', 'description'])\n",
    "db = dataset.connect('sqlite:///books.db')\n",
    "books = db['book_info'].find(order_by=['last_seen'])\n",
    "for book in books:\n",
    "    dic = {}\n",
    "    dic['book_id'] = book['book_id']\n",
    "    dic['title'] = book['title']\n",
    "    dic['description'] = book['description']\n",
    "    books_df = books_df.append(dic, ignore_index=True)"
   ]
  },
  {
   "cell_type": "code",
   "execution_count": 21,
   "metadata": {},
   "outputs": [],
   "source": [
    "books_df.to_csv('books.tsv', sep = '\\t')"
   ]
  }
 ],
 "metadata": {
  "kernelspec": {
   "display_name": "Python 3",
   "language": "python",
   "name": "python3"
  },
  "language_info": {
   "codemirror_mode": {
    "name": "ipython",
    "version": 3
   },
   "file_extension": ".py",
   "mimetype": "text/x-python",
   "name": "python",
   "nbconvert_exporter": "python",
   "pygments_lexer": "ipython3",
   "version": "3.7.4"
  }
 },
 "nbformat": 4,
 "nbformat_minor": 2
}
